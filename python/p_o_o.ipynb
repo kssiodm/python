{
  "nbformat": 4,
  "nbformat_minor": 0,
  "metadata": {
    "colab": {
      "private_outputs": true,
      "provenance": []
    },
    "kernelspec": {
      "name": "python3",
      "display_name": "Python 3"
    },
    "language_info": {
      "name": "python"
    }
  },
  "cells": [
    {
      "cell_type": "markdown",
      "source": [
        "## **p.o.o**"
      ],
      "metadata": {
        "id": "OOnjjK6TOMHs"
      }
    },
    {
      "cell_type": "code",
      "source": [
        "class pessoa(object):\n",
        "\n",
        "  def _init_(self, nome: str, idade: int, documento: complex):\n",
        "    self.nome = nome\n",
        "    self.idade = idade\n",
        "    self.documento = documento"
      ],
      "metadata": {
        "id": "tOGmNCmuOPoi"
      },
      "execution_count": null,
      "outputs": []
    },
    {
      "cell_type": "code",
      "source": [
        "from time import sleep\n",
        "\n",
        "class pessoa(object):\n",
        "\n",
        "  def _init_(self, nome: str, idade: int, documento: str):\n",
        "    self.nome = nome\n",
        "    self.idade = idade\n",
        "    self.documento = documento\n",
        "\n",
        "  def dormir(self, horas: int) -> None:\n",
        "    for hora in range(1,horas+1):\n",
        "      print(f'Dormindo por {hora} horas')\n",
        "      sleep(1)\n",
        "\n",
        "  def falar(self, texto: str) -> None:\n",
        "    print(texto)\n",
        "\n",
        "  def __str__(self) -> str:\n",
        "    return f'{self.nome}, {self.nome} anos e documentos {self.documento}'\n",
        "\n"
      ],
      "metadata": {
        "id": "VCHCynuYO-vd"
      },
      "execution_count": null,
      "outputs": []
    },
    {
      "cell_type": "markdown",
      "source": [
        "## **exemplo**"
      ],
      "metadata": {
        "id": "H6SorKvAagHL"
      }
    },
    {
      "cell_type": "code",
      "source": [
        "class veiculo(object):\n",
        "\n",
        "  def __init__(self, num_rodas: int,\n",
        "             motor: float,\n",
        "             volante: str, pedal: str,\n",
        "             combustivel: str,\n",
        "             painel_instrumentos: str,\n",
        "             farol: str,\n",
        "             assento: int,\n",
        "             cinto: bool,\n",
        "             arCondicionado: bool,\n",
        "             retrovisor: int):\n",
        "    self.num_rodas = num_rodas\n",
        "    self.motor = motor\n",
        "    self.volante = volante\n",
        "    self.pedal = pedal\n",
        "    self.combustivel = combustivel\n",
        "    self.painel_instrumentos = painel_instrumentos\n",
        "    self.farol =farol\n",
        "    self.assento = assento\n",
        "    self.cinto = cinto\n",
        "    self.arCondicionado = arCondicionado\n",
        "    self.retrovisor = retrovisor\n",
        "\n",
        "  def liga_desligar(self, chave: str):\n",
        "    pass\n",
        "\n",
        "  def mover(self,direcao: str):\n",
        "    pass\n",
        "\n",
        "  def parar(self):\n",
        "    pass\n",
        "\n",
        "  def abastecer(self, qtd: int):\n",
        "    pass\n",
        "\n",
        "  def acelerar(self):\n",
        "    pass\n",
        "\n",
        "  def buzinar(self,duracao: int):\n",
        "    pass\n",
        "\n",
        "onibus = veiculo(num_rodas = 6,\n",
        "                 motor = 6.4,\n",
        "                 volante = 'esq',\n",
        "                 pedal = 'esq',\n",
        "                 combustivel = 'diesel',\n",
        "                 painel_instrumentos = 'esq',\n",
        "                 farol = 'LED',\n",
        "                 assento =  45,\n",
        "                 cinto = True,\n",
        "                 arCondicionado = False,\n",
        "                 retrovisor = 4)\n",
        "\n",
        "print(onibus.farol)"
      ],
      "metadata": {
        "id": "zV_dY5bAajW7"
      },
      "execution_count": null,
      "outputs": []
    },
    {
      "cell_type": "markdown",
      "source": [
        "## **opala**"
      ],
      "metadata": {
        "id": "JxdZwmc5pYBs"
      }
    },
    {
      "cell_type": "code",
      "source": [
        "class carro(object):\n",
        "\n",
        "  def __init__(self,qtd_gasolina: int,abastecer: int):\n",
        "    self.qtd_gasolina = qtd_gasolina\n",
        "    self.abstecer = abastecer\n",
        "\n",
        "  def mover(self,km: int):\n",
        "   pass\n",
        "\n",
        "  def abastecer(abastecer):\n",
        "   pass\n",
        "\n",
        "opala = carro(qtd_gasolina = 20,abastecer = 20)\n",
        "\n",
        "print(opala.qtd_gasolina)"
      ],
      "metadata": {
        "id": "51ak7LE8pcIJ"
      },
      "execution_count": null,
      "outputs": []
    },
    {
      "cell_type": "markdown",
      "source": [
        "## **pessoa**"
      ],
      "metadata": {
        "id": "jUwTOk4zcvW1"
      }
    },
    {
      "cell_type": "code",
      "source": [
        "class pessoa(object):\n",
        "\n",
        "  def __init__(self,nome: str,idade: int,peso: int,altura: float):\n",
        "    self.nome = nome\n",
        "    self.idade = idade\n",
        "    self.peso = peso\n",
        "    self.altura = altura\n",
        "\n",
        "  def envelhecer(self,ano: int):\n",
        "    self.idade + ano\n",
        "\n",
        "  def engordar(self,quilo: int ):\n",
        "    self.peso + quilo\n",
        "\n",
        "  def emagrecer(self,quilo2: int):\n",
        "    self.peso - quilo2\n",
        "\n",
        "  def crescer(self,cm: float):\n",
        "    self.altura + cm\n",
        "\n",
        "nomes = pessoa(nome = input(\"insira o nome: \"),\n",
        "               idade = int(input(\"insira a idade: \")),\n",
        "               peso = int(input(\"insira o peso: \")),\n",
        "               altura = float(input(\"insira a altura: \")))\n",
        "\n",
        "print(\"\")"
      ],
      "metadata": {
        "id": "iE3TD4FbczMl"
      },
      "execution_count": null,
      "outputs": []
    }
  ]
}